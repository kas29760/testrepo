{
 "cells": [
  {
   "cell_type": "markdown",
   "id": "440c7d96",
   "metadata": {},
   "source": [
    "# Data Science Tools and Ecosystem"
   ]
  },
  {
   "cell_type": "markdown",
   "id": "1aa17a74",
   "metadata": {},
   "source": [
    "## in this notebook, Data Science Tools and Ecosystem are summarized."
   ]
  },
  {
   "cell_type": "markdown",
   "id": "ac4c639c",
   "metadata": {},
   "source": [
    "### <b> Objectives </b>\n",
    "\n",
    "<ul>\n",
    "    <li> Some of the Popular languages that Data Scientists use</li>\n",
    "    <li> Some of the Commonly used Libraries</li>\n",
    "    <li> examples of arithmetic expressions in Python</li>\n",
    "    \n"
   ]
  },
  {
   "cell_type": "markdown",
   "id": "b59f7392",
   "metadata": {},
   "source": [
    "### Some of the popular languages that Data Scientists use are\n",
    "1. Python \n",
    "2. R\n",
    "3. SQL"
   ]
  },
  {
   "cell_type": "markdown",
   "id": "cedff5d0",
   "metadata": {},
   "source": [
    "#### Some of the commonly used libraries used by Data Scientists include:\n",
    "1. TensorFlow\n",
    "2. Numphy\n",
    "3. Pandas\n",
    "\n",
    "|  Data Science Tools | \n",
    "|---------------------|\n",
    "|  Jupyter Notebooks  |\n",
    "|      R Studio       |\n",
    "|      Github         |\n",
    "\n",
    "### below are a few examples of evaluation arithmetic expressions in Python"
   ]
  },
  {
   "cell_type": "code",
   "execution_count": 1,
   "id": "6a14b0e6",
   "metadata": {},
   "outputs": [
    {
     "data": {
      "text/plain": [
       "17"
      ]
     },
     "execution_count": 1,
     "metadata": {},
     "output_type": "execute_result"
    }
   ],
   "source": [
    "'This a simple arithmetic expression to mutiply then add integers'\n",
    "(3*4)+5"
   ]
  },
  {
   "cell_type": "code",
   "execution_count": 2,
   "id": "d7fb1b94",
   "metadata": {},
   "outputs": [
    {
     "data": {
      "text/plain": [
       "3.3333333333333335"
      ]
     },
     "execution_count": 2,
     "metadata": {},
     "output_type": "execute_result"
    }
   ],
   "source": [
    "'This will convert 200 minutes to hours by diving by 60'\n",
    "200/60\n"
   ]
  },
  {
   "cell_type": "markdown",
   "id": "74db8bc1",
   "metadata": {},
   "source": [
    "## Author\n",
    "Kyle Smith"
   ]
  },
  {
   "cell_type": "code",
   "execution_count": null,
   "id": "01a38e7d",
   "metadata": {},
   "outputs": [],
   "source": []
  }
 ],
 "metadata": {
  "kernelspec": {
   "display_name": "Python 3 (ipykernel)",
   "language": "python",
   "name": "python3"
  },
  "language_info": {
   "codemirror_mode": {
    "name": "ipython",
    "version": 3
   },
   "file_extension": ".py",
   "mimetype": "text/x-python",
   "name": "python",
   "nbconvert_exporter": "python",
   "pygments_lexer": "ipython3",
   "version": "3.11.5"
  }
 },
 "nbformat": 4,
 "nbformat_minor": 5
}
